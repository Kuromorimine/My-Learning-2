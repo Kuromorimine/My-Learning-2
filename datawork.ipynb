{
 "cells": [
  {
   "cell_type": "code",
   "execution_count": 1,
   "source": [
    "import pandas as pd"
   ],
   "outputs": [],
   "metadata": {}
  },
  {
   "cell_type": "markdown",
   "source": [
    "data ที่ 1 Athletes\r\n",
    "1: แต่ละประเทศมีนักกีฬากี่คน\r\n",
    "2: นักกีฬาแต่ละประเทศลงแข่งกีฬาชนิดไหนบ้าง และกี่คนในชนิดนั้น"
   ],
   "metadata": {}
  },
  {
   "cell_type": "code",
   "execution_count": 11,
   "source": [
    "df1=pd.read_csv(\"Athletes.csv\")\r\n",
    "# df1\r\n",
    "df1.drop_duplicates(inplace=True)\r\n",
    "# print(df1.info())\r\n",
    "name=[]\r\n",
    "country=[]\r\n",
    "for i in range(11084):\r\n",
    "    name.append(df1.loc[i,\"Name\"])\r\n",
    "    country.append(df1.loc[i,\"NOC\"])\r\n",
    "\r\n",
    "    \r\n"
   ],
   "outputs": [
    {
     "output_type": "stream",
     "name": "stdout",
     "text": [
      "<class 'pandas.core.frame.DataFrame'>\n",
      "Int64Index: 11084 entries, 0 to 11084\n",
      "Data columns (total 3 columns):\n",
      " #   Column      Non-Null Count  Dtype \n",
      "---  ------      --------------  ----- \n",
      " 0   Name        11084 non-null  object\n",
      " 1   NOC         11084 non-null  object\n",
      " 2   Discipline  11084 non-null  object\n",
      "dtypes: object(3)\n",
      "memory usage: 216.5+ KB\n",
      "None\n"
     ]
    }
   ],
   "metadata": {}
  },
  {
   "cell_type": "markdown",
   "source": [
    "data ที่ 2 EntriesGender\r\n",
    "1:ในกีฬาแต่ละชนิดมีนักกีฬากี่คน รวมชายหญิง\r\n",
    "2:มีนักกีฬาชายกี่คน หญิงกี่คน"
   ],
   "metadata": {}
  },
  {
   "cell_type": "code",
   "execution_count": 2,
   "source": [
    "df2=pd.read_csv(\"EntriesGender.csv\")\r\n",
    "# # df2\r\n",
    "dict2={}\r\n",
    "female=0\r\n",
    "male=0\r\n",
    "for i in range(46):\r\n",
    "    sport=int(df2.loc[i,\"Female\"])+int(df2.loc[i,\"Male\"])\r\n",
    "    dict2[df2.loc[i,\"Discipline\"]]=sport\r\n",
    "    male = male + int(df2.loc[i,\"Male\"])\r\n",
    "    female = female +int(df2.loc[i,\"Female\"])\r\n",
    "df21=pd.DataFrame(dict2,index =[\"1\"])\r\n",
    "print(\"female : \",female)\r\n",
    "print(\"male : \",male)\r\n",
    "df21\r\n",
    "# print(df2.info)"
   ],
   "outputs": [
    {
     "output_type": "stream",
     "name": "stdout",
     "text": [
      "female :  5432\n",
      "male :  5884\n"
     ]
    },
    {
     "output_type": "execute_result",
     "data": {
      "text/html": [
       "<div>\n",
       "<style scoped>\n",
       "    .dataframe tbody tr th:only-of-type {\n",
       "        vertical-align: middle;\n",
       "    }\n",
       "\n",
       "    .dataframe tbody tr th {\n",
       "        vertical-align: top;\n",
       "    }\n",
       "\n",
       "    .dataframe thead th {\n",
       "        text-align: right;\n",
       "    }\n",
       "</style>\n",
       "<table border=\"1\" class=\"dataframe\">\n",
       "  <thead>\n",
       "    <tr style=\"text-align: right;\">\n",
       "      <th></th>\n",
       "      <th>3x3 Basketball</th>\n",
       "      <th>Archery</th>\n",
       "      <th>Artistic Gymnastics</th>\n",
       "      <th>Artistic Swimming</th>\n",
       "      <th>Athletics</th>\n",
       "      <th>Badminton</th>\n",
       "      <th>Baseball/Softball</th>\n",
       "      <th>Basketball</th>\n",
       "      <th>Beach Volleyball</th>\n",
       "      <th>Boxing</th>\n",
       "      <th>...</th>\n",
       "      <th>Swimming</th>\n",
       "      <th>Table Tennis</th>\n",
       "      <th>Taekwondo</th>\n",
       "      <th>Tennis</th>\n",
       "      <th>Trampoline Gymnastics</th>\n",
       "      <th>Triathlon</th>\n",
       "      <th>Volleyball</th>\n",
       "      <th>Water Polo</th>\n",
       "      <th>Weightlifting</th>\n",
       "      <th>Wrestling</th>\n",
       "    </tr>\n",
       "  </thead>\n",
       "  <tbody>\n",
       "    <tr>\n",
       "      <th>1</th>\n",
       "      <td>64</td>\n",
       "      <td>128</td>\n",
       "      <td>196</td>\n",
       "      <td>105</td>\n",
       "      <td>2041</td>\n",
       "      <td>173</td>\n",
       "      <td>234</td>\n",
       "      <td>288</td>\n",
       "      <td>96</td>\n",
       "      <td>289</td>\n",
       "      <td>...</td>\n",
       "      <td>779</td>\n",
       "      <td>172</td>\n",
       "      <td>130</td>\n",
       "      <td>191</td>\n",
       "      <td>32</td>\n",
       "      <td>110</td>\n",
       "      <td>288</td>\n",
       "      <td>268</td>\n",
       "      <td>197</td>\n",
       "      <td>289</td>\n",
       "    </tr>\n",
       "  </tbody>\n",
       "</table>\n",
       "<p>1 rows × 46 columns</p>\n",
       "</div>"
      ],
      "text/plain": [
       "   3x3 Basketball  Archery  Artistic Gymnastics  Artistic Swimming  Athletics  \\\n",
       "1              64      128                  196                105       2041   \n",
       "\n",
       "   Badminton  Baseball/Softball  Basketball  Beach Volleyball  Boxing  ...  \\\n",
       "1        173                234         288                96     289  ...   \n",
       "\n",
       "   Swimming  Table Tennis  Taekwondo  Tennis  Trampoline Gymnastics  \\\n",
       "1       779           172        130     191                     32   \n",
       "\n",
       "   Triathlon  Volleyball  Water Polo  Weightlifting  Wrestling  \n",
       "1        110         288         268            197        289  \n",
       "\n",
       "[1 rows x 46 columns]"
      ]
     },
     "metadata": {},
     "execution_count": 2
    }
   ],
   "metadata": {}
  },
  {
   "cell_type": "markdown",
   "source": [
    "dataที่ 3 Medel\r\n",
    "1: แต่ละประเทศได้เหรียญกันไปเท่าไหร่\r\n",
    "2: เหรียญทั้งหมดในการแข่งขันมีทั้งหมดกี่เหรียญ"
   ],
   "metadata": {}
  },
  {
   "cell_type": "code",
   "execution_count": null,
   "source": [
    "df3=pd.read_csv(\"Medals.csv\")\r\n",
    "# df3\r\n",
    "total=0\r\n",
    "dict3={}\r\n",
    "list3=[]\r\n",
    "for i in range(93):\r\n",
    "    # print(df3.loc[i,\"Team/NOC\"],end=\" \")\r\n",
    "    con =int(df3.loc[i,\"Gold\"])+int(df3.loc[i,\"Silver\"])+int(df3.loc[i,\"Bronze\"])\r\n",
    "    # print(con,end=\"\")\r\n",
    "    total = total +con\r\n",
    "    # print()\r\n",
    "    list3.append(i)\r\n",
    "    dict3[df3.loc[i,\"Team/NOC\"]]=con\r\n",
    "df31=pd.DataFrame(dict3,index=[\"1\"])\r\n",
    "print(\"Total : \",total)\r\n",
    "df31\r\n",
    "\r\n"
   ],
   "outputs": [],
   "metadata": {}
  }
 ],
 "metadata": {
  "orig_nbformat": 4,
  "language_info": {
   "name": "python",
   "version": "3.6.3",
   "mimetype": "text/x-python",
   "codemirror_mode": {
    "name": "ipython",
    "version": 3
   },
   "pygments_lexer": "ipython3",
   "nbconvert_exporter": "python",
   "file_extension": ".py"
  },
  "kernelspec": {
   "name": "python3",
   "display_name": "Python 3.6.3 32-bit ('linkenv': venv)"
  },
  "interpreter": {
   "hash": "1affce5bcb0902aa79f0ae3e03f317ad507cfeb470f66d465c52e93bac5288bd"
  }
 },
 "nbformat": 4,
 "nbformat_minor": 2
}