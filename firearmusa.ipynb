{
 "cells": [
  {
   "cell_type": "code",
   "execution_count": null,
   "source": [
    "import pandas as pd\r\n",
    "import numpy as np\r\n",
    "\r\n",
    "df.fillna"
   ],
   "outputs": [],
   "metadata": {}
  },
  {
   "cell_type": "code",
   "execution_count": null,
   "source": [
    "ls=[]\r\n",
    "for i in range(len(df[\"state\"])):\r\n",
    "    ls.append(df[\"state\"].loc[i])\r\n",
    "state = list(set(ls))\r\n",
    "print(state)"
   ],
   "outputs": [],
   "metadata": {}
  },
  {
   "cell_type": "code",
   "execution_count": null,
   "source": [
    "alabama = df[df[\"state\"]==\"Alabama\"]\r\n",
    "permit = 0\r\n",
    "for i in range(len(alabama)):\r\n",
    "    permit = permit + alabama[\"permit\"].loc[i]\r\n",
    "print(permit)"
   ],
   "outputs": [],
   "metadata": {}
  },
  {
   "cell_type": "code",
   "execution_count": null,
   "source": [
    "alabama = df[df[\"state\"]==\"Alabama\"]\r\n",
    "state1= pd.Series(alabama)\r\n",
    "permit=0\r\n",
    "for i in range(len(state1):\r\n",
    "    "
   ],
   "outputs": [],
   "metadata": {}
  }
 ],
 "metadata": {
  "orig_nbformat": 4,
  "language_info": {
   "name": "python"
  }
 },
 "nbformat": 4,
 "nbformat_minor": 2
}