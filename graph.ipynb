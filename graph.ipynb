{
 "cells": [
  {
   "cell_type": "code",
   "execution_count": 1,
   "metadata": {},
   "outputs": [],
   "source": [
    "import matplotlib.pyplot as plt\n",
    "import numpy as np\n",
    "import pandas as pd"
   ]
  },
  {
   "cell_type": "code",
   "execution_count": 2,
   "metadata": {},
   "outputs": [
    {
     "data": {
      "image/png": "[encoded data removed]",
      "text/plain": [
       "<Figure size 432x288 with 1 Axes>"
      ]
     },
     "metadata": {
      "needs_background": "light"
     },
     "output_type": "display_data"
    }
   ],
   "source": [
    "x= np.array([0,6,8,10])\n",
    "y= np.array([0,25,30])\n",
    "z= np.array([\"A\",\"B\",\"C\"])\n",
    "\n",
    "plt.bar(z,y)\n",
    "# plt.plot(x,y)\n",
    "plt.show()"
   ]
  },
  {
   "cell_type": "markdown",
   "metadata": {},
   "source": [
    "1 : มีหนังกี่เรื่อง และมีซีรีย์กี่เรื่อง"
   ]
  },
  {
   "cell_type": "code",
   "execution_count": 3,
   "metadata": {},
   "outputs": [
    {
     "data": {
      "image/png": "[encoded data removed]",
      "text/plain": [
       "<Figure size 432x288 with 1 Axes>"
      ]
     },
     "metadata": {
      "needs_background": "light"
     },
     "output_type": "display_data"
    }
   ],
   "source": [
    "nf=pd.read_csv(\"netflix_titles.csv\")\n",
    "nf.drop_duplicates(inplace=True)\n",
    "\n",
    "# print(nf.info())\n",
    "listmovie=[]\n",
    "listseries=[]\n",
    "\n",
    "y=np.array([\"Movie\",\"Series\"])\n",
    "for i in range(7787):\n",
    "    if nf.loc[i,\"type\"]==\"Movie\":\n",
    "        listmovie.append(\"i\")\n",
    "    if nf.loc[i,\"type\"]==\"TV Show\":\n",
    "        listseries.append(\"a\")\n",
    "# print(len(listmovie),len(listseries))\n",
    "x=np.array([int(len(listmovie)),int(len(listseries))])\n",
    "\n",
    "plt.bar(y,x)\n",
    "plt.show()"
   ]
  },
  {
   "cell_type": "markdown",
   "metadata": {},
   "source": [
    "2:มีหนังกี่เรื่อง และซีรีย์กี่เรื่อง แยกตามประเทศที่ผลิต"
   ]
  },
  {
   "cell_type": "code",
   "execution_count": 4,
   "metadata": {},
   "outputs": [
    {
     "ename": "TypeError",
     "evalue": "'<' not supported between instances of 'str' and 'float'",
     "output_type": "error",
     "traceback": [
      "\u001b[1;31m---------------------------------------------------------------------------\u001b[0m",
      "\u001b[1;31mTypeError\u001b[0m                                 Traceback (most recent call last)",
      "\u001b[1;32m<ipython-input-4-03877a107137>\u001b[0m in \u001b[0;36m<module>\u001b[1;34m\u001b[0m\n\u001b[0;32m     14\u001b[0m \u001b[0mcountry\u001b[0m\u001b[1;33m.\u001b[0m\u001b[0mremove\u001b[0m\u001b[1;33m(\u001b[0m\u001b[1;34m\"a\"\u001b[0m\u001b[1;33m)\u001b[0m\u001b[1;33m\u001b[0m\u001b[0m\n\u001b[0;32m     15\u001b[0m \u001b[0mcountry1\u001b[0m\u001b[1;33m=\u001b[0m\u001b[0mlist\u001b[0m\u001b[1;33m(\u001b[0m\u001b[0mcountry\u001b[0m\u001b[1;33m)\u001b[0m\u001b[1;33m\u001b[0m\u001b[0m\n\u001b[1;32m---> 16\u001b[1;33m \u001b[0mcountry1\u001b[0m\u001b[1;33m.\u001b[0m\u001b[0msort\u001b[0m\u001b[1;33m(\u001b[0m\u001b[1;33m)\u001b[0m\u001b[1;33m\u001b[0m\u001b[0m\n\u001b[0m\u001b[0;32m     17\u001b[0m \u001b[0mprint\u001b[0m\u001b[1;33m(\u001b[0m\u001b[0mcountry1\u001b[0m\u001b[1;33m)\u001b[0m\u001b[1;33m\u001b[0m\u001b[0m\n\u001b[0;32m     18\u001b[0m \u001b[1;31m# country1={str(country)}\u001b[0m\u001b[1;33m\u001b[0m\u001b[1;33m\u001b[0m\u001b[0m\n",
      "\u001b[1;31mTypeError\u001b[0m: '<' not supported between instances of 'str' and 'float'"
     ]
    }
   ],
   "source": [
    "nf2=pd.read_csv(\"netflix_titles.csv\")\n",
    "# nf.drop_duplicates(inplace=True)\n",
    "country={\"a\"}\n",
    "\n",
    "\n",
    "movie=[]\n",
    "series=[]\n",
    "\n",
    "\n",
    "\n",
    "\n",
    "for i in range(7787):\n",
    "    country.add(nf2.loc[i,\"country\"])\n",
    "country.remove(\"a\")\n",
    "country1=list(country)\n",
    "country1.sort()\n",
    "print(country1)\n",
    "# country1={str(country)}\n",
    "# print(country1)\n"
   ]
  }
 ],
 "metadata": {
  "interpreter": {
   "hash": "1affce5bcb0902aa79f0ae3e03f317ad507cfeb470f66d465c52e93bac5288bd"
  },
  "kernelspec": {
   "display_name": "Python 3.6.3 32-bit ('linkenv': venv)",
   "name": "python3"
  },
  "language_info": {
   "codemirror_mode": {
    "name": "ipython",
    "version": 3
   },
   "file_extension": ".py",
   "mimetype": "text/x-python",
   "name": "python",
   "nbconvert_exporter": "python",
   "pygments_lexer": "ipython3",
   "version": "3.6.3"
  },
  "orig_nbformat": 4
 },
 "nbformat": 4,
 "nbformat_minor": 2
}
